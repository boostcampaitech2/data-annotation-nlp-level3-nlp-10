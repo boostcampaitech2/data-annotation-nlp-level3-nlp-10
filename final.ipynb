{
 "cells": [
  {
   "cell_type": "code",
   "execution_count": 57,
   "metadata": {},
   "outputs": [],
   "source": [
    "import zipfile\n",
    "\n",
    "zipfile_ = zipfile.ZipFile('./tagtog_test.zip')\n",
    "zipfile_.extractall('./tagtog')"
   ]
  },
  {
   "cell_type": "code",
   "execution_count": 58,
   "metadata": {},
   "outputs": [],
   "source": [
    "sentence_path = './tagtog/test/plain.html/pool/'\n",
    "tagging_path = './tagtog/test/ann.json/master/pool/'"
   ]
  },
  {
   "cell_type": "code",
   "execution_count": 59,
   "metadata": {},
   "outputs": [
    {
     "name": "stdout",
     "output_type": "stream",
     "text": [
      "['aewf1yAx57hQiMpxX5n1jtEu89J4-text.txt.ann.json']\n"
     ]
    }
   ],
   "source": [
    "import os\n",
    "tag_flist = os.listdir(tagging_path)\n",
    "print(tag_flist)"
   ]
  },
  {
   "cell_type": "code",
   "execution_count": 60,
   "metadata": {},
   "outputs": [
    {
     "name": "stdout",
     "output_type": "stream",
     "text": [
      "aewf1yAx57hQiMpxX5n1jtEu89J4-text.txt\n"
     ]
    }
   ],
   "source": [
    "for i in range(len(tag_flist)):\n",
    "    tag_flist[i]=tag_flist[i][:len(tag_flist)-10]\n",
    "    print(tag_flist[i])"
   ]
  },
  {
   "cell_type": "code",
   "execution_count": 61,
   "metadata": {},
   "outputs": [
    {
     "data": {
      "text/plain": [
       "'./tagtog/test/plain.html/pool/aewf1yAx57hQiMpxX5n1jtEu89J4-text.txt.plain.html'"
      ]
     },
     "execution_count": 61,
     "metadata": {},
     "output_type": "execute_result"
    }
   ],
   "source": [
    "os.path.join(sentence_path, tag_flist[0]+'.plain.html')"
   ]
  },
  {
   "cell_type": "code",
   "execution_count": 73,
   "metadata": {},
   "outputs": [],
   "source": [
    "import json\n",
    "\n",
    "class_path = './tagtog/test/annotations-legend.json'\n",
    "\n",
    "with open(class_path, 'r') as f:\n",
    "    m = json.load(f)"
   ]
  },
  {
   "cell_type": "code",
   "execution_count": 77,
   "metadata": {},
   "outputs": [
    {
     "name": "stdout",
     "output_type": "stream",
     "text": [
      "sentence :  리듬 체조(문화어: 예술체조)(리듬 體操, rhythmic gymnastics)는 율동적인 움직임과 음악을 결합시켜 개성을 풍부하게 표현하는 운동으로, 개인 또는 팀이 곤봉, 후프, 공, 리본, 줄 등의 기구를 이용한다.\n",
      "start :  리듬 체조 0 SPR\n",
      "end :  후프 98 EQP\n"
     ]
    }
   ],
   "source": [
    "# read html\n",
    "import re\n",
    "import json\n",
    "\n",
    "temp = []\n",
    "\n",
    "for i in range(len(tag_flist)):\n",
    "    with open(os.path.join(sentence_path, tag_flist[i]+'.plain.html'), 'r') as f:\n",
    "        text = f.read()\n",
    "        sentence = re.findall(\"(<pre.+>)(.+)(</pre>)\",text)[0][1]\n",
    "    \n",
    "    with open(os.path.join(tagging_path, tag_flist[i]+'.ann.json'), 'r') as f:\n",
    "        text = json.load(f)\n",
    "\n",
    "    start_idx = text['entities'][0]['offsets'][0]['start']\n",
    "    start = text['entities'][0]['offsets'][0]['text']\n",
    "    start_type = m[text['entities'][0]['classId']]\n",
    "\n",
    "    end_idx = text['entities'][1]['offsets'][0]['start']\n",
    "    end = text['entities'][1]['offsets'][0]['text']\n",
    "    end_type = m[text['entities'][1]['classId']]\n",
    "\n",
    "    print('sentence : ', sentence)\n",
    "    print('start : ', start, start_idx, start_type)\n",
    "    print('end : ', end, end_idx, end_type)\n",
    "\n",
    "    temp.append([sentence, dict(word=start, start_idx=start_idx, end_idx=start_idx+len(start)-1, type=start_type), dict(word=end, start_idx=end_idx, end_idx=end_idx+len(end)-1, type=end_type)])"
   ]
  },
  {
   "cell_type": "code",
   "execution_count": 78,
   "metadata": {},
   "outputs": [
    {
     "data": {
      "text/plain": [
       "['리듬 체조(문화어: 예술체조)(리듬 體操, rhythmic gymnastics)는 율동적인 움직임과 음악을 결합시켜 개성을 풍부하게 표현하는 운동으로, 개인 또는 팀이 곤봉, 후프, 공, 리본, 줄 등의 기구를 이용한다.',\n",
       " {'word': '리듬 체조', 'start_idx': 0, 'end_idx': 4, 'type': 'SPR'},\n",
       " {'word': '후프', 'start_idx': 98, 'end_idx': 99, 'type': 'EQP'}]"
      ]
     },
     "execution_count": 78,
     "metadata": {},
     "output_type": "execute_result"
    }
   ],
   "source": [
    "temp[0]"
   ]
  },
  {
   "cell_type": "code",
   "execution_count": 84,
   "metadata": {},
   "outputs": [
    {
     "data": {
      "text/html": [
       "<div>\n",
       "<style scoped>\n",
       "    .dataframe tbody tr th:only-of-type {\n",
       "        vertical-align: middle;\n",
       "    }\n",
       "\n",
       "    .dataframe tbody tr th {\n",
       "        vertical-align: top;\n",
       "    }\n",
       "\n",
       "    .dataframe thead th {\n",
       "        text-align: right;\n",
       "    }\n",
       "</style>\n",
       "<table border=\"1\" class=\"dataframe\">\n",
       "  <thead>\n",
       "    <tr style=\"text-align: right;\">\n",
       "      <th></th>\n",
       "      <th>id</th>\n",
       "      <th>sentence</th>\n",
       "      <th>subject_entity</th>\n",
       "      <th>object_entity</th>\n",
       "    </tr>\n",
       "  </thead>\n",
       "  <tbody>\n",
       "    <tr>\n",
       "      <th>0</th>\n",
       "      <td>0</td>\n",
       "      <td>리듬 체조(문화어: 예술체조)(리듬 體操, rhythmic gymnastics)는 ...</td>\n",
       "      <td>{'word': '리듬 체조', 'start_idx': 0, 'end_idx': 4...</td>\n",
       "      <td>{'word': '후프', 'start_idx': 98, 'end_idx': 99,...</td>\n",
       "    </tr>\n",
       "  </tbody>\n",
       "</table>\n",
       "</div>"
      ],
      "text/plain": [
       "  id                                           sentence  \\\n",
       "0  0  리듬 체조(문화어: 예술체조)(리듬 體操, rhythmic gymnastics)는 ...   \n",
       "\n",
       "                                      subject_entity  \\\n",
       "0  {'word': '리듬 체조', 'start_idx': 0, 'end_idx': 4...   \n",
       "\n",
       "                                       object_entity  \n",
       "0  {'word': '후프', 'start_idx': 98, 'end_idx': 99,...  "
      ]
     },
     "execution_count": 84,
     "metadata": {},
     "output_type": "execute_result"
    }
   ],
   "source": [
    "import pandas as pd\n",
    "\n",
    "df = pd.DataFrame(columns=['id','sentence','subject_entity','object_entity'])\n",
    "\n",
    "for i in range(len(temp)):\n",
    "    df = df.append({'id':i, 'sentence':temp[i][0], 'subject_entity':temp[i][1], 'object_entity':temp[i][2]}, ignore_index=True)\n",
    "\n",
    "df"
   ]
  },
  {
   "cell_type": "code",
   "execution_count": 88,
   "metadata": {},
   "outputs": [],
   "source": [
    "df.to_csv('./save.csv', index=False)"
   ]
  }
 ],
 "metadata": {
  "interpreter": {
   "hash": "31f2aee4e71d21fbe5cf8b01ff0e069b9275f58929596ceb00d14d90e3e16cd6"
  },
  "kernelspec": {
   "display_name": "Python 3.6.9 64-bit",
   "language": "python",
   "name": "python3"
  },
  "language_info": {
   "codemirror_mode": {
    "name": "ipython",
    "version": 3
   },
   "file_extension": ".py",
   "mimetype": "text/x-python",
   "name": "python",
   "nbconvert_exporter": "python",
   "pygments_lexer": "ipython3",
   "version": "3.8.5"
  },
  "orig_nbformat": 4
 },
 "nbformat": 4,
 "nbformat_minor": 2
}
